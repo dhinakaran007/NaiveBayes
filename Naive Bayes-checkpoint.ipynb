{
 "cells": [
  {
   "cell_type": "code",
   "execution_count": 9,
   "id": "5b736c10",
   "metadata": {},
   "outputs": [],
   "source": [
    "import pandas as pd\n",
    "import matplotlib.pyplot as plt\n",
    "import seaborn as sns\n",
    "from sklearn.model_selection import train_test_split\n",
    "from sklearn.naive_bayes import GaussianNB\n",
    "from sklearn.preprocessing import StandardScaler\n",
    "from sklearn.metrics import confusion_matrix, classification_report, roc_curve,roc_auc_score,auc"
   ]
  },
  {
   "cell_type": "code",
   "execution_count": 4,
   "id": "f5fb2470",
   "metadata": {},
   "outputs": [
    {
     "data": {
      "text/html": [
       "<div>\n",
       "<style scoped>\n",
       "    .dataframe tbody tr th:only-of-type {\n",
       "        vertical-align: middle;\n",
       "    }\n",
       "\n",
       "    .dataframe tbody tr th {\n",
       "        vertical-align: top;\n",
       "    }\n",
       "\n",
       "    .dataframe thead th {\n",
       "        text-align: right;\n",
       "    }\n",
       "</style>\n",
       "<table border=\"1\" class=\"dataframe\">\n",
       "  <thead>\n",
       "    <tr style=\"text-align: right;\">\n",
       "      <th></th>\n",
       "      <th>User ID</th>\n",
       "      <th>Gender</th>\n",
       "      <th>Age</th>\n",
       "      <th>EstimatedSalary</th>\n",
       "      <th>Purchased</th>\n",
       "    </tr>\n",
       "  </thead>\n",
       "  <tbody>\n",
       "    <tr>\n",
       "      <th>0</th>\n",
       "      <td>15624510</td>\n",
       "      <td>Male</td>\n",
       "      <td>19.0</td>\n",
       "      <td>19000.0</td>\n",
       "      <td>0</td>\n",
       "    </tr>\n",
       "    <tr>\n",
       "      <th>1</th>\n",
       "      <td>15810944</td>\n",
       "      <td>Male</td>\n",
       "      <td>35.0</td>\n",
       "      <td>20000.0</td>\n",
       "      <td>0</td>\n",
       "    </tr>\n",
       "    <tr>\n",
       "      <th>2</th>\n",
       "      <td>15668575</td>\n",
       "      <td>Female</td>\n",
       "      <td>26.0</td>\n",
       "      <td>43000.0</td>\n",
       "      <td>0</td>\n",
       "    </tr>\n",
       "    <tr>\n",
       "      <th>3</th>\n",
       "      <td>15603246</td>\n",
       "      <td>Female</td>\n",
       "      <td>27.0</td>\n",
       "      <td>57000.0</td>\n",
       "      <td>0</td>\n",
       "    </tr>\n",
       "    <tr>\n",
       "      <th>4</th>\n",
       "      <td>15804002</td>\n",
       "      <td>Male</td>\n",
       "      <td>19.0</td>\n",
       "      <td>76000.0</td>\n",
       "      <td>0</td>\n",
       "    </tr>\n",
       "    <tr>\n",
       "      <th>...</th>\n",
       "      <td>...</td>\n",
       "      <td>...</td>\n",
       "      <td>...</td>\n",
       "      <td>...</td>\n",
       "      <td>...</td>\n",
       "    </tr>\n",
       "    <tr>\n",
       "      <th>395</th>\n",
       "      <td>15691863</td>\n",
       "      <td>Female</td>\n",
       "      <td>46.0</td>\n",
       "      <td>41000.0</td>\n",
       "      <td>1</td>\n",
       "    </tr>\n",
       "    <tr>\n",
       "      <th>396</th>\n",
       "      <td>15706071</td>\n",
       "      <td>Male</td>\n",
       "      <td>51.0</td>\n",
       "      <td>23000.0</td>\n",
       "      <td>1</td>\n",
       "    </tr>\n",
       "    <tr>\n",
       "      <th>397</th>\n",
       "      <td>15654296</td>\n",
       "      <td>Female</td>\n",
       "      <td>50.0</td>\n",
       "      <td>20000.0</td>\n",
       "      <td>1</td>\n",
       "    </tr>\n",
       "    <tr>\n",
       "      <th>398</th>\n",
       "      <td>15755018</td>\n",
       "      <td>Male</td>\n",
       "      <td>36.0</td>\n",
       "      <td>33000.0</td>\n",
       "      <td>0</td>\n",
       "    </tr>\n",
       "    <tr>\n",
       "      <th>399</th>\n",
       "      <td>15594041</td>\n",
       "      <td>Female</td>\n",
       "      <td>49.0</td>\n",
       "      <td>36000.0</td>\n",
       "      <td>1</td>\n",
       "    </tr>\n",
       "  </tbody>\n",
       "</table>\n",
       "<p>400 rows × 5 columns</p>\n",
       "</div>"
      ],
      "text/plain": [
       "      User ID  Gender   Age  EstimatedSalary  Purchased\n",
       "0    15624510    Male  19.0          19000.0          0\n",
       "1    15810944    Male  35.0          20000.0          0\n",
       "2    15668575  Female  26.0          43000.0          0\n",
       "3    15603246  Female  27.0          57000.0          0\n",
       "4    15804002    Male  19.0          76000.0          0\n",
       "..        ...     ...   ...              ...        ...\n",
       "395  15691863  Female  46.0          41000.0          1\n",
       "396  15706071    Male  51.0          23000.0          1\n",
       "397  15654296  Female  50.0          20000.0          1\n",
       "398  15755018    Male  36.0          33000.0          0\n",
       "399  15594041  Female  49.0          36000.0          1\n",
       "\n",
       "[400 rows x 5 columns]"
      ]
     },
     "execution_count": 4,
     "metadata": {},
     "output_type": "execute_result"
    }
   ],
   "source": [
    "data = pd.read_csv(\"D:\\Social_Network_Ads.csv\")\n",
    "data"
   ]
  },
  {
   "cell_type": "code",
   "execution_count": 5,
   "id": "e57576ed",
   "metadata": {},
   "outputs": [
    {
     "data": {
      "text/html": [
       "<div>\n",
       "<style scoped>\n",
       "    .dataframe tbody tr th:only-of-type {\n",
       "        vertical-align: middle;\n",
       "    }\n",
       "\n",
       "    .dataframe tbody tr th {\n",
       "        vertical-align: top;\n",
       "    }\n",
       "\n",
       "    .dataframe thead th {\n",
       "        text-align: right;\n",
       "    }\n",
       "</style>\n",
       "<table border=\"1\" class=\"dataframe\">\n",
       "  <thead>\n",
       "    <tr style=\"text-align: right;\">\n",
       "      <th></th>\n",
       "      <th>User ID</th>\n",
       "      <th>Age</th>\n",
       "      <th>EstimatedSalary</th>\n",
       "      <th>Purchased</th>\n",
       "      <th>Gender_Female</th>\n",
       "      <th>Gender_Male</th>\n",
       "    </tr>\n",
       "  </thead>\n",
       "  <tbody>\n",
       "    <tr>\n",
       "      <th>0</th>\n",
       "      <td>15624510</td>\n",
       "      <td>19.0</td>\n",
       "      <td>19000.0</td>\n",
       "      <td>0</td>\n",
       "      <td>0</td>\n",
       "      <td>1</td>\n",
       "    </tr>\n",
       "    <tr>\n",
       "      <th>1</th>\n",
       "      <td>15810944</td>\n",
       "      <td>35.0</td>\n",
       "      <td>20000.0</td>\n",
       "      <td>0</td>\n",
       "      <td>0</td>\n",
       "      <td>1</td>\n",
       "    </tr>\n",
       "    <tr>\n",
       "      <th>2</th>\n",
       "      <td>15668575</td>\n",
       "      <td>26.0</td>\n",
       "      <td>43000.0</td>\n",
       "      <td>0</td>\n",
       "      <td>1</td>\n",
       "      <td>0</td>\n",
       "    </tr>\n",
       "    <tr>\n",
       "      <th>3</th>\n",
       "      <td>15603246</td>\n",
       "      <td>27.0</td>\n",
       "      <td>57000.0</td>\n",
       "      <td>0</td>\n",
       "      <td>1</td>\n",
       "      <td>0</td>\n",
       "    </tr>\n",
       "    <tr>\n",
       "      <th>4</th>\n",
       "      <td>15804002</td>\n",
       "      <td>19.0</td>\n",
       "      <td>76000.0</td>\n",
       "      <td>0</td>\n",
       "      <td>0</td>\n",
       "      <td>1</td>\n",
       "    </tr>\n",
       "    <tr>\n",
       "      <th>...</th>\n",
       "      <td>...</td>\n",
       "      <td>...</td>\n",
       "      <td>...</td>\n",
       "      <td>...</td>\n",
       "      <td>...</td>\n",
       "      <td>...</td>\n",
       "    </tr>\n",
       "    <tr>\n",
       "      <th>395</th>\n",
       "      <td>15691863</td>\n",
       "      <td>46.0</td>\n",
       "      <td>41000.0</td>\n",
       "      <td>1</td>\n",
       "      <td>1</td>\n",
       "      <td>0</td>\n",
       "    </tr>\n",
       "    <tr>\n",
       "      <th>396</th>\n",
       "      <td>15706071</td>\n",
       "      <td>51.0</td>\n",
       "      <td>23000.0</td>\n",
       "      <td>1</td>\n",
       "      <td>0</td>\n",
       "      <td>1</td>\n",
       "    </tr>\n",
       "    <tr>\n",
       "      <th>397</th>\n",
       "      <td>15654296</td>\n",
       "      <td>50.0</td>\n",
       "      <td>20000.0</td>\n",
       "      <td>1</td>\n",
       "      <td>1</td>\n",
       "      <td>0</td>\n",
       "    </tr>\n",
       "    <tr>\n",
       "      <th>398</th>\n",
       "      <td>15755018</td>\n",
       "      <td>36.0</td>\n",
       "      <td>33000.0</td>\n",
       "      <td>0</td>\n",
       "      <td>0</td>\n",
       "      <td>1</td>\n",
       "    </tr>\n",
       "    <tr>\n",
       "      <th>399</th>\n",
       "      <td>15594041</td>\n",
       "      <td>49.0</td>\n",
       "      <td>36000.0</td>\n",
       "      <td>1</td>\n",
       "      <td>1</td>\n",
       "      <td>0</td>\n",
       "    </tr>\n",
       "  </tbody>\n",
       "</table>\n",
       "<p>400 rows × 6 columns</p>\n",
       "</div>"
      ],
      "text/plain": [
       "      User ID   Age  EstimatedSalary  Purchased  Gender_Female  Gender_Male\n",
       "0    15624510  19.0          19000.0          0              0            1\n",
       "1    15810944  35.0          20000.0          0              0            1\n",
       "2    15668575  26.0          43000.0          0              1            0\n",
       "3    15603246  27.0          57000.0          0              1            0\n",
       "4    15804002  19.0          76000.0          0              0            1\n",
       "..        ...   ...              ...        ...            ...          ...\n",
       "395  15691863  46.0          41000.0          1              1            0\n",
       "396  15706071  51.0          23000.0          1              0            1\n",
       "397  15654296  50.0          20000.0          1              1            0\n",
       "398  15755018  36.0          33000.0          0              0            1\n",
       "399  15594041  49.0          36000.0          1              1            0\n",
       "\n",
       "[400 rows x 6 columns]"
      ]
     },
     "execution_count": 5,
     "metadata": {},
     "output_type": "execute_result"
    }
   ],
   "source": [
    "data2 = pd.get_dummies(data)\n",
    "data2"
   ]
  },
  {
   "cell_type": "code",
   "execution_count": 6,
   "id": "c47d2bd3",
   "metadata": {},
   "outputs": [
    {
     "data": {
      "text/plain": [
       "Index(['User ID', 'Age', 'EstimatedSalary', 'Purchased', 'Gender_Female',\n",
       "       'Gender_Male'],\n",
       "      dtype='object')"
      ]
     },
     "execution_count": 6,
     "metadata": {},
     "output_type": "execute_result"
    }
   ],
   "source": [
    "data2.columns"
   ]
  },
  {
   "cell_type": "code",
   "execution_count": 7,
   "id": "9f0973f5",
   "metadata": {},
   "outputs": [],
   "source": [
    "X = data2.drop(['Purchased','User ID'],axis=1).values\n",
    "y = data2['Purchased'].values"
   ]
  },
  {
   "cell_type": "code",
   "execution_count": 10,
   "id": "b9a411af",
   "metadata": {},
   "outputs": [],
   "source": [
    "X_train, X_test, y_train, y_test = train_test_split(X,y, test_size=0.25,random_state=0)"
   ]
  },
  {
   "cell_type": "code",
   "execution_count": 11,
   "id": "c3429148",
   "metadata": {},
   "outputs": [],
   "source": [
    "sc = StandardScaler()\n",
    "X_train = sc.fit_transform(X_train)\n",
    "X_test = sc.transform(X_test)"
   ]
  },
  {
   "cell_type": "code",
   "execution_count": 13,
   "id": "6766a749",
   "metadata": {},
   "outputs": [
    {
     "data": {
      "text/plain": [
       "GaussianNB()"
      ]
     },
     "execution_count": 13,
     "metadata": {},
     "output_type": "execute_result"
    }
   ],
   "source": [
    "model = GaussianNB()\n",
    "model.fit(X_train,y_train)"
   ]
  },
  {
   "cell_type": "code",
   "execution_count": 14,
   "id": "06cacdb0",
   "metadata": {},
   "outputs": [],
   "source": [
    "pre = model.predict(X_test)"
   ]
  },
  {
   "cell_type": "code",
   "execution_count": 15,
   "id": "ff5d6380",
   "metadata": {},
   "outputs": [
    {
     "data": {
      "text/plain": [
       "array([[66,  2],\n",
       "       [ 6, 26]], dtype=int64)"
      ]
     },
     "execution_count": 15,
     "metadata": {},
     "output_type": "execute_result"
    }
   ],
   "source": [
    "confusion_matrix(y_test,pre)"
   ]
  },
  {
   "cell_type": "code",
   "execution_count": 16,
   "id": "83fd3259",
   "metadata": {},
   "outputs": [
    {
     "name": "stdout",
     "output_type": "stream",
     "text": [
      "              precision    recall  f1-score   support\n",
      "\n",
      "           0       0.92      0.97      0.94        68\n",
      "           1       0.93      0.81      0.87        32\n",
      "\n",
      "    accuracy                           0.92       100\n",
      "   macro avg       0.92      0.89      0.90       100\n",
      "weighted avg       0.92      0.92      0.92       100\n",
      "\n"
     ]
    }
   ],
   "source": [
    "z = classification_report(y_test,pre)\n",
    "print(z)"
   ]
  },
  {
   "cell_type": "code",
   "execution_count": 17,
   "id": "5447b2b9",
   "metadata": {},
   "outputs": [],
   "source": [
    "y_proba = model.predict_proba(X_test)\n",
    "y_predicted = y_proba[:, 1]"
   ]
  },
  {
   "cell_type": "code",
   "execution_count": 18,
   "id": "4e4511d0",
   "metadata": {},
   "outputs": [
    {
     "name": "stdout",
     "output_type": "stream",
     "text": [
      "[0.07750675 0.18843404 0.11085709 0.09238511 0.11961529 0.03186802\n",
      " 0.10811711 0.94325442 0.01277936 0.44766592 0.03406677 0.04212273\n",
      " 0.10731161 0.2143365  0.01798177 0.54029045 0.15919911 0.01513189\n",
      " 0.99693972 0.10347328 0.11915589 0.99562757 0.28971376 0.83399327\n",
      " 0.02405604 0.99606067 0.09213453 0.05138648 0.17868112 0.15635051\n",
      " 0.02238308 0.16846063 0.88784932 0.10588523 0.01473828 0.00619133\n",
      " 0.01936635 0.10300973 0.07026848 0.68425964 0.05193028 0.19809398\n",
      " 0.07118378 0.10892147 0.85648136 0.03739422 0.25828566 0.91359867\n",
      " 0.02169011 0.73604369 0.99614868 0.12963581 0.12482673 0.46081532\n",
      " 0.97958067 0.37726274 0.09141705 0.05348081 0.59876365 0.01788183\n",
      " 0.07229642 0.93730629 0.01093618 0.29782414 0.01465246 0.96751697\n",
      " 0.05726553 0.02287992 0.16794342 0.39481426 0.96394615 0.18055994\n",
      " 0.0196739  0.43046779 0.05420778 0.01182096 0.46073939 0.26818992\n",
      " 0.84141941 0.90460402 0.99936081 0.97492421 0.02350103 0.03282444\n",
      " 0.94078466 0.46956022 0.33863183 0.99799977 0.52554014 0.30691775\n",
      " 0.25657953 0.97611175 0.01975861 0.01781209 0.02866548 0.11868158\n",
      " 0.01374253 0.52457019 0.72989546 0.63456583]\n"
     ]
    }
   ],
   "source": [
    "print(y_predicted)"
   ]
  },
  {
   "cell_type": "code",
   "execution_count": 19,
   "id": "0bf6a644",
   "metadata": {},
   "outputs": [],
   "source": [
    "fpr, tpr, thresholds = roc_curve(y_test, y_predicted)"
   ]
  },
  {
   "cell_type": "code",
   "execution_count": 20,
   "id": "50f43d3d",
   "metadata": {},
   "outputs": [
    {
     "name": "stdout",
     "output_type": "stream",
     "text": [
      "0.9623161764705882\n"
     ]
    }
   ],
   "source": [
    "roc_auc = auc(fpr, tpr)\n",
    "print(roc_auc)"
   ]
  },
  {
   "cell_type": "code",
   "execution_count": 21,
   "id": "e5ef7615",
   "metadata": {},
   "outputs": [
    {
     "data": {
      "text/plain": [
       "Text(0, 0.5, 'True Positive Rate(Sensitivity)')"
      ]
     },
     "execution_count": 21,
     "metadata": {},
     "output_type": "execute_result"
    },
    {
     "data": {
      "image/png": "[encoded data removed]",
      "text/plain": [
       "<Figure size 432x288 with 1 Axes>"
      ]
     },
     "metadata": {
      "needs_background": "light"
     },
     "output_type": "display_data"
    }
   ],
   "source": [
    "plt.figure()\n",
    "plt.plot(fpr,tpr, color='orange', label='ROC'%roc_auc)\n",
    "plt.plot([0,1],[0,1], color='darkgrey', linestyle='--')\n",
    "plt.xlim([0.0, 1.0])\n",
    "plt.ylim([0.0, 1.0])\n",
    "plt.xlabel('False Positive Rate(1-specificity)')\n",
    "plt.ylabel('True Positive Rate(Sensitivity)')"
   ]
  }
 ],
 "metadata": {
  "interpreter": {
   "hash": "cf92aa13fedf815d5c8dd192b8d835913fde3e8bc926b2a0ad6cc74ef2ba3ca2"
  },
  "kernelspec": {
   "display_name": "Python 3.9.7 64-bit",
   "language": "python",
   "name": "python3"
  },
  "language_info": {
   "codemirror_mode": {
    "name": "ipython",
    "version": 3
   },
   "file_extension": ".py",
   "mimetype": "text/x-python",
   "name": "python",
   "nbconvert_exporter": "python",
   "pygments_lexer": "ipython3",
   "version": "3.9.7"
  }
 },
 "nbformat": 4,
 "nbformat_minor": 5
}
